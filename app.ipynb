{
  "nbformat": 4,
  "nbformat_minor": 0,
  "metadata": {
    "colab": {
      "provenance": [],
      "authorship_tag": "ABX9TyOyfrptXwBPNersaHfAh+3v",
      "include_colab_link": true
    },
    "kernelspec": {
      "name": "python3",
      "display_name": "Python 3"
    },
    "language_info": {
      "name": "python"
    }
  },
  "cells": [
    {
      "cell_type": "markdown",
      "metadata": {
        "id": "view-in-github",
        "colab_type": "text"
      },
      "source": [
        "<a href=\"https://colab.research.google.com/github/frankettheofranckettheo/Advanced-ML-Project/blob/main/app.ipynb\" target=\"_parent\"><img src=\"https://colab.research.google.com/assets/colab-badge.svg\" alt=\"Open In Colab\"/></a>"
      ]
    },
    {
      "cell_type": "code",
      "source": [
        "from google.colab import drive\n",
        "drive.mount('/content/drive')"
      ],
      "metadata": {
        "colab": {
          "base_uri": "https://localhost:8080/"
        },
        "id": "vNkfUxyaq8N0",
        "outputId": "ea63070b-ac58-46ab-aa9a-ee2a92eeb191"
      },
      "execution_count": null,
      "outputs": [
        {
          "output_type": "stream",
          "name": "stdout",
          "text": [
            "Drive already mounted at /content/drive; to attempt to forcibly remount, call drive.mount(\"/content/drive\", force_remount=True).\n"
          ]
        }
      ]
    },
    {
      "cell_type": "code",
      "source": [
        "!pip install pyngrok"
      ],
      "metadata": {
        "colab": {
          "base_uri": "https://localhost:8080/"
        },
        "id": "eBESMDXX-tqv",
        "outputId": "14ac2586-a07d-4fe0-865d-169a79834e5b"
      },
      "execution_count": null,
      "outputs": [
        {
          "output_type": "stream",
          "name": "stdout",
          "text": [
            "Collecting pyngrok\n",
            "  Downloading pyngrok-7.4.0-py3-none-any.whl.metadata (8.1 kB)\n",
            "Requirement already satisfied: PyYAML>=5.1 in /usr/local/lib/python3.12/dist-packages (from pyngrok) (6.0.2)\n",
            "Downloading pyngrok-7.4.0-py3-none-any.whl (25 kB)\n",
            "Installing collected packages: pyngrok\n",
            "Successfully installed pyngrok-7.4.0\n"
          ]
        }
      ]
    },
    {
      "cell_type": "code",
      "source": [
        "!ngrok authtoken 2r3uq0yH3mEoQgK8FbQjUD6Qwx8_6XLtkQMYipfBfuAS5EvWM"
      ],
      "metadata": {
        "colab": {
          "base_uri": "https://localhost:8080/"
        },
        "id": "wUe-dOqnB45G",
        "outputId": "725dcf6b-cdbc-4f48-88e4-747992fcd4aa"
      },
      "execution_count": 7,
      "outputs": [
        {
          "output_type": "stream",
          "name": "stdout",
          "text": [
            "Authtoken saved to configuration file: /root/.config/ngrok/ngrok.yml\n"
          ]
        }
      ]
    },
    {
      "cell_type": "code",
      "execution_count": 8,
      "metadata": {
        "id": "VXfhsWqsI1Pi",
        "colab": {
          "base_uri": "https://localhost:8080/"
        },
        "outputId": "307e93bc-fb84-4ec2-8f65-f9382aa83e83"
      },
      "outputs": [
        {
          "output_type": "stream",
          "name": "stdout",
          "text": [
            " * ngrok tunnel URL: NgrokTunnel: \"https://6967ad127068.ngrok-free.app\" -> \"http://localhost:5000\"\n",
            " * Serving Flask app '__main__'\n",
            " * Debug mode: off\n"
          ]
        },
        {
          "output_type": "stream",
          "name": "stderr",
          "text": [
            "INFO:werkzeug:\u001b[31m\u001b[1mWARNING: This is a development server. Do not use it in a production deployment. Use a production WSGI server instead.\u001b[0m\n",
            " * Running on all addresses (0.0.0.0)\n",
            " * Running on http://127.0.0.1:5000\n",
            " * Running on http://172.28.0.12:5000\n",
            "INFO:werkzeug:\u001b[33mPress CTRL+C to quit\u001b[0m\n",
            "WARNING:pyngrok.process.ngrok:t=2025-09-25T08:41:07+0000 lvl=warn msg=\"failed to check for update\" obj=updater err=\"Post \\\"https://update.equinox.io/check\\\": context deadline exceeded\"\n",
            "WARNING:pyngrok.process.ngrok:t=2025-09-25T08:43:03+0000 lvl=warn msg=\"Stopping forwarder\" name=http-5000-8ce678a3-3263-4925-b345-a62cab1dcac4 acceptErr=\"failed to accept connection: Listener closed\"\n"
          ]
        }
      ],
      "source": [
        "from flask import Flask, request, jsonify\n",
        "import tensorflow as tf\n",
        "from tensorflow import keras\n",
        "import numpy as np\n",
        "from pyngrok import ngrok\n",
        "\n",
        "# Flask attend __name__ et non name\n",
        "app = Flask(__name__)\n",
        "\n",
        "# Chargement du modèle Keras\n",
        "model = keras.models.load_model(\"/content/drive/MyDrive/mnist_model.keras\")\n",
        "\n",
        "@app.route(\"/predict\", methods=[\"POST\"])\n",
        "def predict():\n",
        "    data = request.json\n",
        "\n",
        "    # Vérification des données\n",
        "    if \"image\" not in data:\n",
        "        return jsonify({\"error\": \"No image provided\"}), 400\n",
        "\n",
        "    image_data = np.array(data[\"image\"])\n",
        "    # Assurez-vous que l'image est au bon format (1, 784) et normalisée\n",
        "    image_data = image_data.reshape(1, 784)\n",
        "    image_data = image_data.astype(\"float32\") / 255.0\n",
        "\n",
        "    prediction = model.predict(image_data)\n",
        "    predicted_class = np.argmax(prediction, axis=1)[0]\n",
        "\n",
        "    return jsonify({\n",
        "        \"prediction\": int(predicted_class),\n",
        "        \"probabilities\": prediction.tolist()\n",
        "    })\n",
        "\n",
        "# On lance le tunnel ngrok avant Flask\n",
        "public_url = ngrok.connect(5000)\n",
        "print(f\" * ngrok tunnel URL: {public_url}\")\n",
        "\n",
        "if __name__ == \"__main__\":\n",
        "    app.run(host=\"0.0.0.0\", port=5000, debug=False)\n"
      ]
    }
  ]
}